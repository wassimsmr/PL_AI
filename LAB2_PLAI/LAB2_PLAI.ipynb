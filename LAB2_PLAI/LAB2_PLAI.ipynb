{
 "cells": [
  {
   "cell_type": "code",
   "execution_count": 8,
   "id": "a25c3b3b",
   "metadata": {},
   "outputs": [],
   "source": [
    "import json "
   ]
  },
  {
   "cell_type": "code",
   "execution_count": 9,
   "id": "5f8048bc",
   "metadata": {},
   "outputs": [],
   "source": [
    "class Object:\n",
    "    def __init__(self, name, obj_type):\n",
    "        self.name = name\n",
    "        self.type = obj_type\n",
    "        self.actions = set()\n",
    "\n",
    "    def add_action(self, action):\n",
    "        self.actions.add(action)"
   ]
  },
  {
   "cell_type": "code",
   "execution_count": 10,
   "id": "2dd2250e",
   "metadata": {},
   "outputs": [],
   "source": [
    "class Task:\n",
    "    def __init__(self, task_data):\n",
    "        self.task_name = task_data[\"task_name\"]\n",
    "        self.objects = {}\n",
    "        self.init = task_data[\"init\"]\n",
    "        self.goal = task_data[\"goal\"]\n",
    "\n",
    "    def add_object(self, name, obj_type):\n",
    "        if name not in self.objects:\n",
    "            obj = Object(name, obj_type)\n",
    "            self.objects[name] = obj\n",
    "\n",
    "    def establish_connections(self):\n",
    "        for action in self.init:\n",
    "            self.process_action(action)\n",
    "\n",
    "    def process_action(self, action_str):\n",
    "        # Extract object names from the action string\n",
    "        parts = action_str.strip(\"()\").split()\n",
    "        object_names = [part for part in parts if part in self.objects]\n",
    "\n",
    "        # Associate objects with the action\n",
    "        for object_name in object_names:\n",
    "            self.objects[object_name].add_action(action_str)"
   ]
  },
  {
   "cell_type": "code",
   "execution_count": 11,
   "id": "fb56fffc",
   "metadata": {},
   "outputs": [],
   "source": [
    "# Read domain.json\n",
    "with open('domain.json', 'r') as domain_file:\n",
    "    domain_data = json.load(domain_file)\n",
    "\n",
    "# Read task01.json\n",
    "with open('task01.json', 'r') as task_file:\n",
    "    task_data = json.load(task_file)"
   ]
  },
  {
   "cell_type": "code",
   "execution_count": 12,
   "id": "8d17cb11",
   "metadata": {},
   "outputs": [],
   "source": [
    "# Create a Task object\n",
    "task = Task(task_data)\n",
    "\n",
    "# Initialize objects\n",
    "for name, info in task_data[\"objects\"].items():\n",
    "    task.add_object(name, info[\"type\"])\n",
    "\n",
    "# Establish connections based on actions\n",
    "task.establish_connections()"
   ]
  },
  {
   "cell_type": "code",
   "execution_count": 13,
   "id": "9a687da5",
   "metadata": {},
   "outputs": [
    {
     "name": "stdout",
     "output_type": "stream",
     "text": [
      "Task Name: TPP\n",
      "\n",
      "Objects:\n",
      "Name: goods1, Type: goods\n",
      "Actions: {'(ready-to-load goods1 market1 level0)', '(on-sale goods1 market1 level1)', '(stored goods1 level0)', '(loaded goods1 truck1 level0)'}\n",
      "\n",
      "Name: truck1, Type: truck\n",
      "Actions: {'(at truck1 depot1)', '(loaded goods1 truck1 level0)'}\n",
      "\n",
      "Name: market1, Type: market\n",
      "Actions: {'(ready-to-load goods1 market1 level0)', '(on-sale goods1 market1 level1)', '(connected depot1 market1)', '(connected market1 depot1)'}\n",
      "\n",
      "Name: depot1, Type: depot\n",
      "Actions: {'(at truck1 depot1)', '(connected depot1 market1)', '(connected market1 depot1)'}\n",
      "\n",
      "Name: level0, Type: level\n",
      "Actions: {'(next level1 level0)', '(ready-to-load goods1 market1 level0)', '(stored goods1 level0)', '(loaded goods1 truck1 level0)'}\n",
      "\n",
      "Name: level1, Type: level\n",
      "Actions: {'(next level1 level0)', '(on-sale goods1 market1 level1)'}\n",
      "\n",
      "\n",
      "Init:\n",
      "(next level1 level0)\n",
      "(ready-to-load goods1 market1 level0)\n",
      "(stored goods1 level0)\n",
      "(loaded goods1 truck1 level0)\n",
      "(connected depot1 market1)\n",
      "(connected market1 depot1)\n",
      "(on-sale goods1 market1 level1)\n",
      "(at truck1 depot1)\n",
      "\n",
      "Goal:\n",
      " (stored goods1 level1))\n"
     ]
    }
   ],
   "source": [
    "# Print the organized information\n",
    "print(\"Task Name:\", task.task_name)\n",
    "print(\"\\nObjects:\")\n",
    "for name, obj in task.objects.items():\n",
    "    print(f\"Name: {name}, Type: {obj.type}\")\n",
    "    print(\"Actions:\", obj.actions)\n",
    "    print()\n",
    "\n",
    "print(\"\\nInit:\")\n",
    "for init in task.init:\n",
    "    print(init)\n",
    "\n",
    "print(\"\\nGoal:\")\n",
    "for goal in task.goal:\n",
    "    print(goal)\n"
   ]
  },
  {
   "cell_type": "code",
   "execution_count": null,
   "id": "e3f02568",
   "metadata": {},
   "outputs": [],
   "source": []
  }
 ],
 "metadata": {
  "kernelspec": {
   "display_name": "Python 3 (ipykernel)",
   "language": "python",
   "name": "python3"
  },
  "language_info": {
   "codemirror_mode": {
    "name": "ipython",
    "version": 3
   },
   "file_extension": ".py",
   "mimetype": "text/x-python",
   "name": "python",
   "nbconvert_exporter": "python",
   "pygments_lexer": "ipython3",
   "version": "3.11.4"
  }
 },
 "nbformat": 4,
 "nbformat_minor": 5
}
