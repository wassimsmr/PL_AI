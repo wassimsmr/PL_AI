{
 "cells": [
  {
   "cell_type": "code",
   "execution_count": 1,
   "id": "afa6db06",
   "metadata": {},
   "outputs": [],
   "source": [
    "import json\n",
    "from collections import deque"
   ]
  },
  {
   "cell_type": "code",
   "execution_count": 2,
   "id": "015bde7f",
   "metadata": {},
   "outputs": [],
   "source": [
    "# Load the JSON representations of the domain and problem\n",
    "with open('domain.json', 'r') as domain_file:\n",
    "    domain_data = json.load(domain_file)\n",
    "\n",
    "with open('task1.json', 'r') as problem_file:\n",
    "    problem_data = json.load(problem_file)"
   ]
  },
  {
   "cell_type": "code",
   "execution_count": 3,
   "id": "32f77c16",
   "metadata": {},
   "outputs": [],
   "source": [
    "# Extract actions from the domain\n",
    "actions = domain_data.get(\"actions\", [])"
   ]
  },
  {
   "cell_type": "code",
   "execution_count": 4,
   "id": "a441e4ca",
   "metadata": {},
   "outputs": [],
   "source": [
    "# Extract objects from the task file \n",
    "objects = problem_data.get(\"objects\", [])"
   ]
  },
  {
   "cell_type": "code",
   "execution_count": 5,
   "id": "039c403a",
   "metadata": {},
   "outputs": [],
   "source": [
    "# Generate all possible combinations of actions and objects\n",
    "combinations = []\n",
    "\n",
    "for action in actions:\n",
    "    for obj1 in objects:\n",
    "        if len(action[\"parameters\"]) == 1:\n",
    "            # If the action takes one object, create a combination\n",
    "            combinations.append(f\"('{action['name']}', '{obj1}')\")\n",
    "        else:\n",
    "            for obj2 in objects:\n",
    "                if obj1 != obj2:\n",
    "                    # If the action takes two different objects, create a combination\n",
    "                    combinations.append(f\"('{action['name']}', '{obj1}', '{obj2}')\")"
   ]
  },
  {
   "cell_type": "code",
   "execution_count": 6,
   "id": "1fce95d1",
   "metadata": {},
   "outputs": [
    {
     "name": "stdout",
     "output_type": "stream",
     "text": [
      "('pick-up', 'D')\n",
      "('pick-up', 'B')\n",
      "('pick-up', 'A')\n",
      "('pick-up', 'C')\n",
      "('put-down', 'D')\n",
      "('put-down', 'B')\n",
      "('put-down', 'A')\n",
      "('put-down', 'C')\n",
      "('stack', 'D', 'B')\n",
      "('stack', 'D', 'A')\n",
      "('stack', 'D', 'C')\n",
      "('stack', 'B', 'D')\n",
      "('stack', 'B', 'A')\n",
      "('stack', 'B', 'C')\n",
      "('stack', 'A', 'D')\n",
      "('stack', 'A', 'B')\n",
      "('stack', 'A', 'C')\n",
      "('stack', 'C', 'D')\n",
      "('stack', 'C', 'B')\n",
      "('stack', 'C', 'A')\n",
      "('unstack', 'D', 'B')\n",
      "('unstack', 'D', 'A')\n",
      "('unstack', 'D', 'C')\n",
      "('unstack', 'B', 'D')\n",
      "('unstack', 'B', 'A')\n",
      "('unstack', 'B', 'C')\n",
      "('unstack', 'A', 'D')\n",
      "('unstack', 'A', 'B')\n",
      "('unstack', 'A', 'C')\n",
      "('unstack', 'C', 'D')\n",
      "('unstack', 'C', 'B')\n",
      "('unstack', 'C', 'A')\n"
     ]
    }
   ],
   "source": [
    "# Print the output\n",
    "for combination in combinations:\n",
    "    print(combination)"
   ]
  },
  {
   "cell_type": "markdown",
   "id": "289d4f94",
   "metadata": {},
   "source": [
    "<h1>method 1 : </h1>"
   ]
  },
  {
   "cell_type": "markdown",
   "id": "8b183183",
   "metadata": {},
   "source": [
    "<h3>я загрузил исходную ситуацию, целевую ситуацию и набор действий из файлов JSON.\n",
    "Использовал BFS для поиска решения, исследуя все возможные последовательности действий для достижения целевой ситуации из исходной ситуации </h3>"
   ]
  },
  {
   "cell_type": "code",
   "execution_count": 7,
   "id": "19ebe634",
   "metadata": {},
   "outputs": [],
   "source": [
    "# Define a function for breadth-first search\n",
    "def bfs(domain_file, problem_file):\n",
    "    # Extract initial and goal states as lists of strings\n",
    "    initial_state = [str(item) for item in problem_data.get(\"init\", [])]\n",
    "    goal_state = [str(item) for item in problem_data.get(\"and\", [])]\n",
    "\n",
    "    # Define a queue for BFS\n",
    "    queue = deque()\n",
    "    visited_states = set()\n",
    "\n",
    "    # Initialize the queue with the initial state\n",
    "    initial_state_str = json.dumps(initial_state, sort_keys=True)\n",
    "    queue.append(initial_state_str)\n",
    "    visited_states.add(initial_state_str)\n",
    "\n",
    "    while queue:\n",
    "        current_state = queue.popleft()\n",
    "\n",
    "        if current_state == json.dumps(goal_state, sort_keys=True):\n",
    "            return \"Solution found!\"\n",
    "\n",
    "        current_state_dict = json.loads(current_state)\n",
    "        for action in actions:\n",
    "            # Try applying each action to the current state\n",
    "            new_state = apply_action(action, current_state_dict)\n",
    "            new_state_str = json.dumps(new_state, sort_keys=True)\n",
    "            \n",
    "            if new_state_str not in visited_states:\n",
    "                visited_states.add(new_state_str)\n",
    "                queue.append(new_state_str)\n",
    "\n",
    "    return \"No solution found.\""
   ]
  },
  {
   "cell_type": "code",
   "execution_count": 8,
   "id": "7f0b94d2",
   "metadata": {},
   "outputs": [],
   "source": [
    "# Define a function to apply an action to the state\n",
    "def apply_action(action, state):\n",
    "    new_state = state.copy()\n",
    "    # Implement action effects here based on PDDL-style effects\n",
    "    action_name = action[\"name\"]\n",
    "    parameters = action[\"parameters\"]\n",
    "\n",
    "    # Search for the action in the state and update the state\n",
    "    for key in new_state:\n",
    "        if action_name in key:\n",
    "            if \"not\" in key:\n",
    "                # Remove the negative effect\n",
    "                new_state.remove(key)\n",
    "            else:\n",
    "                # Replace the positive effect\n",
    "                new_state.remove(key)\n",
    "                new_state.append(action_name)\n",
    "    return new_state"
   ]
  },
  {
   "cell_type": "code",
   "execution_count": 9,
   "id": "71e4afb4",
   "metadata": {},
   "outputs": [
    {
     "name": "stdout",
     "output_type": "stream",
     "text": [
      "No solution found.\n"
     ]
    }
   ],
   "source": [
    "# Extract initial and goal states from the JSON data\n",
    "initial_state = [str(item) for item in problem_data.get(\"init\", [])]\n",
    "goal_state = [str(item) for item in problem_data.get(\"and\", [])]\n",
    "result = bfs(domain_data, problem_data)\n",
    "print(result)"
   ]
  },
  {
   "cell_type": "markdown",
   "id": "b733260f",
   "metadata": {},
   "source": [
    "<h1>method 2: </h1>"
   ]
  },
  {
   "cell_type": "markdown",
   "id": "102cef14",
   "metadata": {},
   "source": [
    "<h3>я вручную определил исходные ситуации, цели и список комбинаций действий,\n",
    "затем я выполнил действия по исходным ситуациям и проверил, достигнуты ли цели</h3>"
   ]
  },
  {
   "cell_type": "code",
   "execution_count": 15,
   "id": "93330cfc",
   "metadata": {},
   "outputs": [],
   "source": [
    "# Define the initial state as a list of strings\n",
    "initial_state = [\n",
    "    \"CLEAR C\",\n",
    "    \"CLEAR A\",\n",
    "    \"CLEAR B\",\n",
    "    \"CLEAR D\",\n",
    "    \"ONTABLE C\",\n",
    "    \"ONTABLE A\",\n",
    "    \"ONTABLE B\",\n",
    "    \"ONTABLE D\",\n",
    "    \"HANDEMPTY\"\n",
    "]"
   ]
  },
  {
   "cell_type": "code",
   "execution_count": 23,
   "id": "807a8a73",
   "metadata": {},
   "outputs": [],
   "source": [
    "# Define the list of goals as a list of strings\n",
    "goals = [\n",
    "    \"ON D C\",\n",
    "    \"ON C B\",\n",
    "    \"ON B A\"\n",
    "]"
   ]
  },
  {
   "cell_type": "code",
   "execution_count": 17,
   "id": "c48c7684",
   "metadata": {},
   "outputs": [],
   "source": [
    "combinations = [\n",
    "    ('pick-up', 'D'),\n",
    "    ('stack', 'D', 'C'),\n",
    "    ('pick-up', 'C'),\n",
    "    ('stack', 'C', 'B'),\n",
    "    ('pick-up', 'B'),\n",
    "    ('stack', 'B', 'A')\n",
    "]"
   ]
  },
  {
   "cell_type": "code",
   "execution_count": 18,
   "id": "59bb8786",
   "metadata": {},
   "outputs": [],
   "source": [
    "# Function to perform an action on a state\n",
    "def perform_action(state, action):\n",
    "    if action[0] == 'pick-up':\n",
    "        if f\"CLEAR {action[1]}\" in state and f\"ONTABLE {action[1]}\" in state and \"HANDEMPTY\" in state:\n",
    "            state.remove(f\"CLEAR {action[1]}\")\n",
    "            state.remove(f\"ONTABLE {action[1]}\")\n",
    "            state.remove(\"HANDEMPTY\")\n",
    "            state.append(f\"HOLDING {action[1]}\")\n",
    "    elif action[0] == 'put-down':\n",
    "        if f\"HOLDING {action[1]}\" in state:\n",
    "            state.remove(f\"HOLDING {action[1]}\")\n",
    "            state.append(f\"CLEAR {action[1]}\")\n",
    "            state.append(f\"ONTABLE {action[1]}\")\n",
    "            state.append(\"HANDEMPTY\")\n",
    "    elif action[0] == 'stack':\n",
    "        if f\"HOLDING {action[1]}\" in state and f\"CLEAR {action[2]}\" in state:\n",
    "            state.remove(f\"HOLDING {action[1]}\")\n",
    "            state.remove(f\"CLEAR {action[2]}\")\n",
    "            state.append(f\"CLEAR {action[1]}\")\n",
    "            state.append(f\"ON {action[1]} {action[2]}\")\n",
    "            state.append(\"HANDEMPTY\")\n",
    "    return state"
   ]
  },
  {
   "cell_type": "code",
   "execution_count": 19,
   "id": "0f8e5f5e",
   "metadata": {},
   "outputs": [],
   "source": [
    "# Initialize the state with the initial state\n",
    "current_state = list(initial_state)"
   ]
  },
  {
   "cell_type": "code",
   "execution_count": 20,
   "id": "92466285",
   "metadata": {},
   "outputs": [],
   "source": [
    "# Function to check if all goals are satisfied\n",
    "def are_goals_satisfied(state, goals):\n",
    "    return all(goal in state for goal in goals)"
   ]
  },
  {
   "cell_type": "code",
   "execution_count": 21,
   "id": "438dd435",
   "metadata": {},
   "outputs": [],
   "source": [
    "# DFS to find all solutions\n",
    "def find_all_solutions(state, goals, path):\n",
    "    if are_goals_satisfied(state, goals):\n",
    "        yield path  # Return the current solution\n",
    "\n",
    "    for combination in combinations:\n",
    "        new_state = perform_action(list(state), combination)\n",
    "        if new_state not in path:\n",
    "            new_path = path + [new_state]\n",
    "            # Recursively explore the next step\n",
    "            yield from find_all_solutions(new_state, goals, new_path)"
   ]
  },
  {
   "cell_type": "code",
   "execution_count": 25,
   "id": "0279749d",
   "metadata": {},
   "outputs": [
    {
     "name": "stdout",
     "output_type": "stream",
     "text": [
      "Solutions:\n",
      "['CLEAR C', 'CLEAR A', 'CLEAR B', 'CLEAR D', 'ONTABLE C', 'ONTABLE A', 'ONTABLE B', 'ONTABLE D', 'HANDEMPTY']\n",
      "['CLEAR C', 'CLEAR A', 'CLEAR D', 'ONTABLE C', 'ONTABLE A', 'ONTABLE D', 'HOLDING B']\n",
      "['CLEAR C', 'CLEAR D', 'ONTABLE C', 'ONTABLE A', 'ONTABLE D', 'CLEAR B', 'ON B A', 'HANDEMPTY']\n",
      "['CLEAR D', 'ONTABLE A', 'ONTABLE D', 'CLEAR B', 'ON B A', 'HOLDING C']\n",
      "['CLEAR D', 'ONTABLE A', 'ONTABLE D', 'ON B A', 'CLEAR C', 'ON C B', 'HANDEMPTY']\n",
      "['ONTABLE A', 'ON B A', 'CLEAR C', 'ON C B', 'HOLDING D']\n",
      "['ONTABLE A', 'ON B A', 'ON C B', 'CLEAR D', 'ON D C', 'HANDEMPTY']\n"
     ]
    }
   ],
   "source": [
    "# Find and print all solutions\n",
    "initial_state_str = list(initial_state)\n",
    "solutions = find_all_solutions(initial_state_str, goals, [initial_state_str])\n",
    "\n",
    "for solution in solutions:\n",
    "    print(f\"Solutions:\")\n",
    "    for state in solution:\n",
    "        print(state)"
   ]
  },
  {
   "cell_type": "code",
   "execution_count": null,
   "id": "5ddedf39",
   "metadata": {},
   "outputs": [],
   "source": []
  }
 ],
 "metadata": {
  "kernelspec": {
   "display_name": "Python 3 (ipykernel)",
   "language": "python",
   "name": "python3"
  },
  "language_info": {
   "codemirror_mode": {
    "name": "ipython",
    "version": 3
   },
   "file_extension": ".py",
   "mimetype": "text/x-python",
   "name": "python",
   "nbconvert_exporter": "python",
   "pygments_lexer": "ipython3",
   "version": "3.11.5"
  }
 },
 "nbformat": 4,
 "nbformat_minor": 5
}
