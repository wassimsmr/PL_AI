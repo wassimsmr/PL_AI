{
 "cells": [
  {
   "cell_type": "code",
   "execution_count": 7,
   "id": "c7faeccc",
   "metadata": {},
   "outputs": [],
   "source": [
    "import json"
   ]
  },
  {
   "cell_type": "code",
   "execution_count": 8,
   "id": "a7a19c14",
   "metadata": {},
   "outputs": [],
   "source": [
    "# Load the JSON representations of the domain and problem\n",
    "with open('domain.json', 'r') as domain_file:\n",
    "    domain_data = json.load(domain_file)\n",
    "\n",
    "with open('task1.json', 'r') as problem_file:\n",
    "    problem_data = json.load(problem_file)"
   ]
  },
  {
   "cell_type": "code",
   "execution_count": 9,
   "id": "47a5e4bb",
   "metadata": {},
   "outputs": [],
   "source": [
    "# Extract actions from the domain\n",
    "actions = domain_data.get(\"actions\", [])"
   ]
  },
  {
   "cell_type": "code",
   "execution_count": 10,
   "id": "9c7e730e",
   "metadata": {},
   "outputs": [],
   "source": [
    "# Extract objects from the task file \n",
    "objects = problem_data.get(\"objects\", [])"
   ]
  },
  {
   "cell_type": "code",
   "execution_count": 11,
   "id": "f5dc8875",
   "metadata": {},
   "outputs": [],
   "source": [
    "# Generate all possible combinations of actions and objects\n",
    "combinations = []\n",
    "\n",
    "for action in actions:\n",
    "    for obj1 in objects:\n",
    "        if len(action[\"parameters\"]) == 1:\n",
    "            # If the action takes one object, create a combination\n",
    "            combinations.append(f\"('{action['name']}', '{obj1}')\")\n",
    "        else:\n",
    "            for obj2 in objects:\n",
    "                if obj1 != obj2:\n",
    "                    # If the action takes two different objects, create a combination\n",
    "                    combinations.append(f\"('{action['name']}', '{obj1}', '{obj2}')\")"
   ]
  },
  {
   "cell_type": "code",
   "execution_count": 12,
   "id": "ce9c56e9",
   "metadata": {},
   "outputs": [
    {
     "name": "stdout",
     "output_type": "stream",
     "text": [
      "('pick-up', 'D')\n",
      "('pick-up', 'B')\n",
      "('pick-up', 'A')\n",
      "('pick-up', 'C')\n",
      "('put-down', 'D')\n",
      "('put-down', 'B')\n",
      "('put-down', 'A')\n",
      "('put-down', 'C')\n",
      "('stack', 'D', 'B')\n",
      "('stack', 'D', 'A')\n",
      "('stack', 'D', 'C')\n",
      "('stack', 'B', 'D')\n",
      "('stack', 'B', 'A')\n",
      "('stack', 'B', 'C')\n",
      "('stack', 'A', 'D')\n",
      "('stack', 'A', 'B')\n",
      "('stack', 'A', 'C')\n",
      "('stack', 'C', 'D')\n",
      "('stack', 'C', 'B')\n",
      "('stack', 'C', 'A')\n",
      "('unstack', 'D', 'B')\n",
      "('unstack', 'D', 'A')\n",
      "('unstack', 'D', 'C')\n",
      "('unstack', 'B', 'D')\n",
      "('unstack', 'B', 'A')\n",
      "('unstack', 'B', 'C')\n",
      "('unstack', 'A', 'D')\n",
      "('unstack', 'A', 'B')\n",
      "('unstack', 'A', 'C')\n",
      "('unstack', 'C', 'D')\n",
      "('unstack', 'C', 'B')\n",
      "('unstack', 'C', 'A')\n"
     ]
    }
   ],
   "source": [
    "# Print the output\n",
    "for combination in combinations:\n",
    "    print(combination)"
   ]
  },
  {
   "cell_type": "code",
   "execution_count": null,
   "id": "52261b16",
   "metadata": {},
   "outputs": [],
   "source": []
  }
 ],
 "metadata": {
  "kernelspec": {
   "display_name": "Python 3 (ipykernel)",
   "language": "python",
   "name": "python3"
  },
  "language_info": {
   "codemirror_mode": {
    "name": "ipython",
    "version": 3
   },
   "file_extension": ".py",
   "mimetype": "text/x-python",
   "name": "python",
   "nbconvert_exporter": "python",
   "pygments_lexer": "ipython3",
   "version": "3.11.5"
  }
 },
 "nbformat": 4,
 "nbformat_minor": 5
}
