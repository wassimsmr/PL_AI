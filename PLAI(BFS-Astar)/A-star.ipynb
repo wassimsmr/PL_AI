{
 "cells": [
  {
   "cell_type": "code",
   "execution_count": 1,
   "id": "e4cbb7c2",
   "metadata": {},
   "outputs": [],
   "source": [
    "from itertools import product\n",
    "import heapq\n",
    "import json"
   ]
  },
  {
   "cell_type": "code",
   "execution_count": 2,
   "id": "e17bcd6a",
   "metadata": {},
   "outputs": [],
   "source": [
    "class PlanningDomain:\n",
    "\n",
    "    def __init__(self, actions=()):\n",
    "        self.actions = tuple(actions)\n",
    "\n",
    "    def generate_groundings(self, objects):\n",
    "        grounded_actions = list()\n",
    "        for action in self.actions:\n",
    "            parameters = [objects[type_] for type_ in action.types]\n",
    "            combinations = set()\n",
    "\n",
    "            for param_set in product(*parameters):\n",
    "                param_set_frozen = frozenset(param_set)\n",
    "\n",
    "                # Skip if unique and not all parameters are distinct\n",
    "                if action.unique and len(param_set_frozen) != len(param_set):\n",
    "                    continue\n",
    "\n",
    "                # Skip if same and parameters set is already used\n",
    "                if action.same and param_set_frozen in combinations:\n",
    "                    continue\n",
    "\n",
    "                combinations.add(param_set_frozen)\n",
    "                grounded_actions.append(action.generate_grounding(*param_set))\n",
    "\n",
    "        return grounded_actions"
   ]
  },
  {
   "cell_type": "code",
   "execution_count": 3,
   "id": "c51202f7",
   "metadata": {},
   "outputs": [],
   "source": [
    "class PlanningAction:\n",
    "\n",
    "    def __init__(self, name, parameters=(), preconditions=(), effects=(), unique=False, same=False):\n",
    "        self.name = name\n",
    "        if len(parameters) > 0:\n",
    "            self.types, self.arg_names = zip(*parameters)\n",
    "        else:\n",
    "            self.types = tuple()\n",
    "            self.arg_names = tuple()\n",
    "        self.preconditions = preconditions\n",
    "        self.effects = effects\n",
    "        self.unique = unique\n",
    "        self.same = same\n",
    "\n",
    "    def generate_grounding(self, *args):\n",
    "        return GroundedPlanningAction(self, *args)\n",
    "\n",
    "    def __str__(self):\n",
    "        arg_list = ','.join(['%s' % pair for pair in zip(self.arg_names)])\n",
    "        return '%s(%s)' % (self.name, arg_list)"
   ]
  },
  {
   "cell_type": "code",
   "execution_count": 4,
   "id": "1a740e13",
   "metadata": {},
   "outputs": [],
   "source": [
    "def flatten_nested_list(nested_list):\n",
    "    flat_list = []\n",
    "    for item in nested_list:\n",
    "        if isinstance(item, list):\n",
    "            flat_list.extend(flatten_nested_list(item))\n",
    "        else:\n",
    "            flat_list.append(item)\n",
    "    return flat_list"
   ]
  },
  {
   "cell_type": "code",
   "execution_count": 5,
   "id": "bd0e902e",
   "metadata": {},
   "outputs": [],
   "source": [
    "def create_planning_domain(data):\n",
    "    actions = list()\n",
    "\n",
    "    for action, params in data[\"action\"].items():\n",
    "        parameters = list()\n",
    "        for type_, variable_list in params[\"parameters\"].items():\n",
    "            for variable in variable_list:\n",
    "                parameters.append((type_, variable))\n",
    "\n",
    "        preconditions = list()\n",
    "        for name, predicates in params[\"precondition\"].items():\n",
    "            preconditions.append(tuple(flatten_nested_list([name, predicates])))\n",
    "\n",
    "        effects = list()\n",
    "        for name, predicates in params[\"effect\"].items():\n",
    "            effects.append(tuple(flatten_nested_list([name, predicates])))\n",
    "\n",
    "        actions.append(PlanningAction(action, parameters, preconditions, effects))\n",
    "\n",
    "    return PlanningDomain(actions)"
   ]
  },
  {
   "cell_type": "code",
   "execution_count": 6,
   "id": "3f45838b",
   "metadata": {},
   "outputs": [],
   "source": [
    "class PlanningTask:\n",
    "\n",
    "    def __init__(self, planning_domain, objects, initial_state=(), goal_state=()):\n",
    "        self.grounded_actions = planning_domain.generate_groundings(objects)\n",
    "\n",
    "        predicates = list(initial_state)\n",
    "        functions = dict()\n",
    "        self.initial_state = PlanningState(predicates, functions)\n",
    "\n",
    "        self.goal_state = list(goal_state)"
   ]
  },
  {
   "cell_type": "code",
   "execution_count": 7,
   "id": "12327c25",
   "metadata": {},
   "outputs": [],
   "source": [
    "def apply_grounding(arg_names, args):\n",
    "    name_arg_mapping = dict(zip(arg_names, args))\n",
    "\n",
    "    def substitute_predicate(predicate):\n",
    "        return predicate[0:1] + tuple(name_arg_mapping.get(arg, arg) for arg in predicate[1:])\n",
    "\n",
    "    return substitute_predicate"
   ]
  },
  {
   "cell_type": "code",
   "execution_count": 8,
   "id": "14689f90",
   "metadata": {},
   "outputs": [],
   "source": [
    "class GroundedPlanningAction:\n",
    "\n",
    "    def __init__(self, action, *args):\n",
    "        self.name = action.name\n",
    "        ground = apply_grounding(action.arg_names, args)\n",
    "\n",
    "        self.written = ground((self.name,) + action.arg_names)\n",
    "\n",
    "        self.preconditions = [ground(pre) for pre in action.preconditions]\n",
    "        self.effects = [ground(effect) for effect in action.effects]\n",
    "\n",
    "    def __str__(self):\n",
    "        arg_list = ','.join(map(str, self.written[1:]))\n",
    "        return '%s(%s)' % (self.written[0], arg_list)"
   ]
  },
  {
   "cell_type": "code",
   "execution_count": 9,
   "id": "ba7da078",
   "metadata": {},
   "outputs": [],
   "source": [
    "def create_planning_problem(planning_domain, data):\n",
    "    objects = dict()\n",
    "\n",
    "    for type_, variables in data[\"objects\"].items():\n",
    "        objects[type_] = variables\n",
    "\n",
    "    initial_state = list()\n",
    "    for name, object_list in data[\"init\"].items():\n",
    "        for obj in object_list:\n",
    "            initial_state.append(tuple(flatten_nested_list([name, obj])))\n",
    "\n",
    "    goal_state = list()\n",
    "    for name, object_list in data[\"goal\"].items():\n",
    "        for obj in object_list:\n",
    "            goal_state.append(tuple(flatten_nested_list([name, obj])))\n",
    "\n",
    "    return PlanningTask(planning_domain, objects, initial_state, goal_state)"
   ]
  },
  {
   "cell_type": "code",
   "execution_count": 10,
   "id": "52ac90c8",
   "metadata": {},
   "outputs": [],
   "source": [
    "class PlanningState:\n",
    "\n",
    "    def __init__(self, predicates, functions, predecessor=None):\n",
    "        self.predicates = frozenset(predicates)\n",
    "        self.functions = tuple(functions.items())\n",
    "        self.f_dict = functions\n",
    "        self.predecessor = predecessor\n",
    "\n",
    "    def apply(self, action):\n",
    "        new_predicates = set(self.predicates)\n",
    "        new_predicates |= set(action.effects)\n",
    "        new_predicates -= set(action.preconditions)\n",
    "\n",
    "        new_functions = dict()\n",
    "        new_functions.update(self.functions)\n",
    "\n",
    "        return PlanningState(new_predicates, new_functions, (self, action))\n",
    "\n",
    "    def extract_plan(self):\n",
    "        plan = list()\n",
    "        current_state = self\n",
    "        while current_state.predecessor is not None:\n",
    "            plan.append(current_state.predecessor[1])\n",
    "            current_state = current_state.predecessor[0]\n",
    "\n",
    "        plan.reverse()\n",
    "        return plan\n",
    "\n",
    "    def __hash__(self):\n",
    "        return hash((self.predicates, self.functions))\n",
    "\n",
    "    def __eq__(self, other):\n",
    "        return ((self.predicates, self.functions) ==\n",
    "                (other.predicates, other.functions))\n",
    "\n",
    "    def __lt__(self, other):\n",
    "        return hash(self) < hash(other)"
   ]
  },
  {
   "cell_type": "code",
   "execution_count": 11,
   "id": "a80d6afd",
   "metadata": {},
   "outputs": [],
   "source": [
    "def null_heuristic():\n",
    "    return 0"
   ]
  },
  {
   "cell_type": "code",
   "execution_count": 12,
   "id": "afe279e0",
   "metadata": {},
   "outputs": [],
   "source": [
    "def is_goal_state_reached(state, goal_state):\n",
    "    return all(pred in state.predicates for pred in goal_state) and sum(['holding' in item[0] for item in state.predicates]) < 3"
   ]
  },
  {
   "cell_type": "code",
   "execution_count": 13,
   "id": "8e40662d",
   "metadata": {},
   "outputs": [],
   "source": [
    "def h_g_heuristic(state, new_state, goal_state):\n",
    "    h_g_value = 0\n",
    "    for pred in new_state.predicates:\n",
    "        if pred in state.predicates:\n",
    "            h_g_value += 1\n",
    "        if pred in goal_state:\n",
    "            h_g_value += 1\n",
    "    return h_g_value\n",
    "\n",
    "\n",
    "def astar(planning_problem, heuristic=h_g_heuristic, initial_state=None, goal_state=None):\n",
    "    if heuristic is None:\n",
    "        heuristic = null_heuristic\n",
    "    if initial_state is None:\n",
    "        initial_state = planning_problem.initial_state\n",
    "    if goal_state is None:\n",
    "        goal_state = tuple(planning_problem.goal_state)\n",
    "\n",
    "    closed_states = set()\n",
    "    fringe = [(heuristic(initial_state, PlanningState(list(), dict()), goal_state), initial_state)]\n",
    "    heapq.heapify(fringe)\n",
    "\n",
    "    while True:\n",
    "        if len(fringe) == 0:\n",
    "            return None\n",
    "\n",
    "        current_heuristic, current_state = heapq.heappop(fringe)\n",
    "\n",
    "        if is_goal_state_reached(current_state, goal_state):\n",
    "            plan = current_state.extract_plan()\n",
    "            return plan\n",
    "\n",
    "        if current_state not in closed_states:\n",
    "            closed_states.add(current_state)\n",
    "            successor_states = set(current_state.apply(action)\n",
    "                                   for action in planning_problem.grounded_actions\n",
    "                                   if is_goal_state_reached(current_state, action.preconditions))\n",
    "\n",
    "            for successor_state in successor_states:\n",
    "                if successor_state not in closed_states:\n",
    "                    heapq.heappush(fringe, (heuristic(current_state, successor_state, goal_state), successor_state))\n"
   ]
  },
  {
   "cell_type": "code",
   "execution_count": 14,
   "id": "b15624bb",
   "metadata": {},
   "outputs": [],
   "source": [
    "# Load domain and task data from JSON files\n",
    "with open('domain.json', 'r') as domain_file:\n",
    "    domain_data = json.load(domain_file)\n",
    "\n",
    "with open('Task1.json', 'r') as task_file:\n",
    "    task_data = json.load(task_file)"
   ]
  },
  {
   "cell_type": "code",
   "execution_count": 15,
   "id": "d3f6b73e",
   "metadata": {},
   "outputs": [],
   "source": [
    "# Create planning domain and problem\n",
    "planning_domain = create_planning_domain(domain_data)\n",
    "planning_problem = create_planning_problem(planning_domain, task_data)"
   ]
  },
  {
   "cell_type": "code",
   "execution_count": 16,
   "id": "54d8811c",
   "metadata": {},
   "outputs": [
    {
     "name": "stdout",
     "output_type": "stream",
     "text": [
      "Actions:\n",
      "pick-up(x)\n",
      "put-down(x)\n",
      "stack(x,y)\n",
      "unstack(x,y)\n"
     ]
    },
    {
     "data": {
      "text/plain": [
       "[None, None, None, None]"
      ]
     },
     "execution_count": 16,
     "metadata": {},
     "output_type": "execute_result"
    }
   ],
   "source": [
    "# Print actions and action combinations\n",
    "print(\"Actions:\")\n",
    "[print(action.__str__()) for action in planning_domain.actions]"
   ]
  },
  {
   "cell_type": "code",
   "execution_count": 17,
   "id": "cd9a5b65",
   "metadata": {},
   "outputs": [
    {
     "name": "stdout",
     "output_type": "stream",
     "text": [
      "\n",
      "Action Combinations:\n",
      "pick-up(D)\n",
      "pick-up(B)\n",
      "pick-up(A)\n",
      "pick-up(C)\n",
      "put-down(D)\n",
      "put-down(B)\n",
      "put-down(A)\n",
      "put-down(C)\n",
      "stack(D,D)\n",
      "stack(D,B)\n",
      "stack(D,A)\n",
      "stack(D,C)\n",
      "stack(B,D)\n",
      "stack(B,B)\n",
      "stack(B,A)\n",
      "stack(B,C)\n",
      "stack(A,D)\n",
      "stack(A,B)\n",
      "stack(A,A)\n",
      "stack(A,C)\n",
      "stack(C,D)\n",
      "stack(C,B)\n",
      "stack(C,A)\n",
      "stack(C,C)\n",
      "unstack(D,D)\n",
      "unstack(D,B)\n",
      "unstack(D,A)\n",
      "unstack(D,C)\n",
      "unstack(B,D)\n",
      "unstack(B,B)\n",
      "unstack(B,A)\n",
      "unstack(B,C)\n",
      "unstack(A,D)\n",
      "unstack(A,B)\n",
      "unstack(A,A)\n",
      "unstack(A,C)\n",
      "unstack(C,D)\n",
      "unstack(C,B)\n",
      "unstack(C,A)\n",
      "unstack(C,C)\n"
     ]
    },
    {
     "data": {
      "text/plain": [
       "[None,\n",
       " None,\n",
       " None,\n",
       " None,\n",
       " None,\n",
       " None,\n",
       " None,\n",
       " None,\n",
       " None,\n",
       " None,\n",
       " None,\n",
       " None,\n",
       " None,\n",
       " None,\n",
       " None,\n",
       " None,\n",
       " None,\n",
       " None,\n",
       " None,\n",
       " None,\n",
       " None,\n",
       " None,\n",
       " None,\n",
       " None,\n",
       " None,\n",
       " None,\n",
       " None,\n",
       " None,\n",
       " None,\n",
       " None,\n",
       " None,\n",
       " None,\n",
       " None,\n",
       " None,\n",
       " None,\n",
       " None,\n",
       " None,\n",
       " None,\n",
       " None,\n",
       " None]"
      ]
     },
     "execution_count": 17,
     "metadata": {},
     "output_type": "execute_result"
    }
   ],
   "source": [
    "print(\"\\nAction Combinations:\")\n",
    "[print(grounded_action.__str__()) for grounded_action in planning_problem.grounded_actions]"
   ]
  },
  {
   "cell_type": "code",
   "execution_count": 18,
   "id": "70f766ca",
   "metadata": {},
   "outputs": [
    {
     "name": "stdout",
     "output_type": "stream",
     "text": [
      "\n",
      "Plan using A*:\n",
      "pick-up(B)\n",
      "pick-up(C)\n",
      "stack(B,A)\n",
      "stack(C,B)\n",
      "pick-up(D)\n",
      "stack(D,C)\n"
     ]
    },
    {
     "data": {
      "text/plain": [
       "[None, None, None, None, None, None]"
      ]
     },
     "execution_count": 18,
     "metadata": {},
     "output_type": "execute_result"
    }
   ],
   "source": [
    "print(\"\\nPlan using A*:\")\n",
    "[print(action.__str__()) for action in astar(planning_problem)]"
   ]
  }
 ],
 "metadata": {
  "kernelspec": {
   "display_name": "Python 3 (ipykernel)",
   "language": "python",
   "name": "python3"
  },
  "language_info": {
   "codemirror_mode": {
    "name": "ipython",
    "version": 3
   },
   "file_extension": ".py",
   "mimetype": "text/x-python",
   "name": "python",
   "nbconvert_exporter": "python",
   "pygments_lexer": "ipython3",
   "version": "3.11.5"
  }
 },
 "nbformat": 4,
 "nbformat_minor": 5
}
